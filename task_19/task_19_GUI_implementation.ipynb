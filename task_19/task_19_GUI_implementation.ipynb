{
 "cells": [
  {
   "cell_type": "markdown",
   "metadata": {},
   "source": [
    "# GUI trial"
   ]
  },
  {
   "cell_type": "code",
   "execution_count": 1,
   "metadata": {},
   "outputs": [],
   "source": [
    "import sys\n",
    "import pandas as pd\n",
    "from PyQt5.QtWidgets import (\n",
    "    QApplication, QWidget, QPushButton, QVBoxLayout, \n",
    "    QLabel, QFileDialog, QHBoxLayout, QLineEdit, QComboBox, QMessageBox\n",
    ")\n",
    "from sklearn.model_selection import train_test_split, KFold, cross_val_score\n",
    "from sklearn.metrics import accuracy_score, f1_score\n",
    "from sklearn.ensemble import RandomForestClassifier\n",
    "from sklearn.base import clone"
   ]
  },
  {
   "cell_type": "code",
   "execution_count": 2,
   "metadata": {},
   "outputs": [],
   "source": [
    "class LoanPredictionModel:\n",
    "    \n",
    "    def __init__(self, data_path=None, model=None):\n",
    "        self.data_path = data_path\n",
    "        self.data = None\n",
    "        self.X_train, self.X_test, self.y_train, self.y_test = None, None, None, None\n",
    "        self.model = model if model else RandomForestClassifier()\n",
    "        self.trained_model = None\n",
    "    \n",
    "    def load_data(self):\n",
    "        self.data = pd.read_csv(self.data_path)\n",
    "    \n",
    "    def split_data(self, target_column, test_size=0.2, random_state=42):\n",
    "        X = self.data.drop(columns=[target_column])\n",
    "        y = self.data[target_column]\n",
    "        self.X_train, self.X_test, self.y_train, self.y_test = train_test_split(X, y, test_size=test_size, random_state=random_state)\n",
    "    \n",
    "    def run_cross_validation(self, cv=5, scoring='accuracy'):\n",
    "        kf = KFold(n_splits=cv, shuffle=True, random_state=42)\n",
    "        scores = cross_val_score(self.model, self.X_train, self.y_train, cv=kf, scoring=scoring)\n",
    "        return scores.mean()\n",
    "    \n",
    "    def train_model(self):\n",
    "        self.trained_model = clone(self.model)\n",
    "        self.trained_model.fit(self.X_train, self.y_train)\n",
    "    \n",
    "    def test_model(self):\n",
    "        y_pred = self.trained_model.predict(self.X_test)\n",
    "        accuracy = accuracy_score(self.y_test, y_pred)\n",
    "        macro_f1 = f1_score(self.y_test, y_pred, average='macro')\n",
    "        weighted_f1 = f1_score(self.y_test, y_pred, average='weighted')\n",
    "        return accuracy, macro_f1, weighted_f1\n",
    "    \n",
    "    def delete_model(self):\n",
    "        self.trained_model = None\n",
    "    \n",
    "    def delete_data(self):\n",
    "        self.data = None\n",
    "        self.X_train, self.X_test, self.y_train, self.y_test = None, None, None, None"
   ]
  },
  {
   "cell_type": "code",
   "execution_count": 3,
   "metadata": {},
   "outputs": [],
   "source": [
    "class LoanPredictionGUI(QWidget):\n",
    "    \n",
    "    def __init__(self):\n",
    "        super().__init__()\n",
    "        self.init_ui()\n",
    "        self.model = LoanPredictionModel()\n",
    "    \n",
    "    def init_ui(self):\n",
    "        self.setWindowTitle(\"Loan Prediction Model\")\n",
    "        self.setGeometry(100, 100, 400, 300)\n",
    "        \n",
    "        # Layout\n",
    "        layout = QVBoxLayout()\n",
    "        \n",
    "        # Load Data\n",
    "        self.load_button = QPushButton(\"Load Data\")\n",
    "        self.load_button.clicked.connect(self.load_data)\n",
    "        layout.addWidget(self.load_button)\n",
    "        \n",
    "        # Split Data\n",
    "        self.split_data_button = QPushButton(\"Split Data\")\n",
    "        self.split_data_button.clicked.connect(self.split_data)\n",
    "        layout.addWidget(self.split_data_button)\n",
    "        \n",
    "        # Train Model\n",
    "        self.train_button = QPushButton(\"Train Model\")\n",
    "        self.train_button.clicked.connect(self.train_model)\n",
    "        layout.addWidget(self.train_button)\n",
    "        \n",
    "        # Cross Validation\n",
    "        self.cv_button = QPushButton(\"Run Cross-Validation\")\n",
    "        self.cv_button.clicked.connect(self.run_cv)\n",
    "        layout.addWidget(self.cv_button)\n",
    "        \n",
    "        # Test Model\n",
    "        self.test_button = QPushButton(\"Test Model\")\n",
    "        self.test_button.clicked.connect(self.test_model)\n",
    "        layout.addWidget(self.test_button)\n",
    "        \n",
    "        # Output Label\n",
    "        self.output_label = QLabel(\"Output will be shown here.\")\n",
    "        layout.addWidget(self.output_label)\n",
    "        \n",
    "        # Delete Model\n",
    "        self.delete_model_button = QPushButton(\"Delete Model\")\n",
    "        self.delete_model_button.clicked.connect(self.delete_model)\n",
    "        layout.addWidget(self.delete_model_button)\n",
    "        \n",
    "        # Delete Data\n",
    "        self.delete_data_button = QPushButton(\"Delete Data\")\n",
    "        self.delete_data_button.clicked.connect(self.delete_data)\n",
    "        layout.addWidget(self.delete_data_button)\n",
    "        \n",
    "        self.setLayout(layout)\n",
    "    \n",
    "    def load_data(self):\n",
    "        file_name, _ = QFileDialog.getOpenFileName(self, \"Open CSV File\", \"\", \"CSV Files (*.csv)\")\n",
    "        if file_name:\n",
    "            self.model.data_path = file_name\n",
    "            self.model.load_data()\n",
    "            self.output_label.setText(\"Data loaded successfully.\")\n",
    "    \n",
    "    def split_data(self):\n",
    "        if self.model.data is not None:\n",
    "            target_column = \"Loan_Status\"  # Assuming 'Loan_Status' is the target column\n",
    "            self.model.split_data(target_column)\n",
    "            self.output_label.setText(\"Data split successfully.\")\n",
    "        else:\n",
    "            QMessageBox.warning(self, \"Error\", \"Load data first.\")\n",
    "    \n",
    "    def train_model(self):\n",
    "        if self.model.X_train is not None:\n",
    "            self.model.train_model()\n",
    "            self.output_label.setText(\"Model trained successfully.\")\n",
    "        else:\n",
    "            QMessageBox.warning(self, \"Error\", \"Split data first.\")\n",
    "    \n",
    "    def run_cv(self):\n",
    "        if self.model.X_train is not None:\n",
    "            score = self.model.run_cross_validation()\n",
    "            self.output_label.setText(f\"Cross-validation accuracy: {score:.4f}\")\n",
    "        else:\n",
    "            QMessageBox.warning(self, \"Error\", \"Split data first.\")\n",
    "    \n",
    "    def test_model(self):\n",
    "        if self.model.trained_model is not None:\n",
    "            accuracy, macro_f1, weighted_f1 = self.model.test_model()\n",
    "            self.output_label.setText(f\"Accuracy: {accuracy:.4f}, Macro F1: {macro_f1:.4f}, Weighted F1: {weighted_f1:.4f}\")\n",
    "        else:\n",
    "            QMessageBox.warning(self, \"Error\", \"Train the model first.\")\n",
    "    \n",
    "    def delete_model(self):\n",
    "        self.model.delete_model()\n",
    "        self.output_label.setText(\"Model deleted.\")\n",
    "    \n",
    "    def delete_data(self):\n",
    "        self.model.delete_data()\n",
    "        self.output_label.setText(\"Data deleted.\")"
   ]
  },
  {
   "cell_type": "code",
   "execution_count": 4,
   "metadata": {},
   "outputs": [
    {
     "name": "stderr",
     "output_type": "stream",
     "text": [
      "2024-11-15 19:33:55.359 python[5984:250170] +[IMKClient subclass]: chose IMKClient_Legacy\n",
      "2024-11-15 19:33:55.359 python[5984:250170] +[IMKInputSession subclass]: chose IMKInputSession_Legacy\n",
      "2024-11-15 19:33:59.304 python[5984:250170] The class 'NSOpenPanel' overrides the method identifier.  This method is implemented by class 'NSWindow'\n"
     ]
    },
    {
     "ename": "SystemExit",
     "evalue": "0",
     "output_type": "error",
     "traceback": [
      "An exception has occurred, use %tb to see the full traceback.\n",
      "\u001b[0;31mSystemExit\u001b[0m\u001b[0;31m:\u001b[0m 0\n"
     ]
    },
    {
     "name": "stderr",
     "output_type": "stream",
     "text": [
      "/opt/homebrew/Caskroom/miniforge/base/envs/envp3t/lib/python3.10/site-packages/IPython/core/interactiveshell.py:3585: UserWarning: To exit: use 'exit', 'quit', or Ctrl-D.\n",
      "  warn(\"To exit: use 'exit', 'quit', or Ctrl-D.\", stacklevel=1)\n"
     ]
    }
   ],
   "source": [
    "app = QApplication(sys.argv)\n",
    "window = LoanPredictionGUI()\n",
    "window.show()\n",
    "sys.exit(app.exec_())"
   ]
  },
  {
   "cell_type": "code",
   "execution_count": null,
   "metadata": {},
   "outputs": [],
   "source": []
  }
 ],
 "metadata": {
  "kernelspec": {
   "display_name": "envp3t",
   "language": "python",
   "name": "python3"
  },
  "language_info": {
   "codemirror_mode": {
    "name": "ipython",
    "version": 3
   },
   "file_extension": ".py",
   "mimetype": "text/x-python",
   "name": "python",
   "nbconvert_exporter": "python",
   "pygments_lexer": "ipython3",
   "version": "3.10.14"
  }
 },
 "nbformat": 4,
 "nbformat_minor": 2
}
